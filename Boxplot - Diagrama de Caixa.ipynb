{
 "cells": [
  {
   "cell_type": "code",
   "execution_count": 2,
   "metadata": {},
   "outputs": [],
   "source": [
    "import matplotlib.pyplot as plt\n",
    "import random"
   ]
  },
  {
   "cell_type": "code",
   "execution_count": 3,
   "metadata": {},
   "outputs": [
    {
     "data": {
      "image/png": "[encoded data removed]",
      "text/plain": [
       "<Figure size 432x288 with 1 Axes>"
      ]
     },
     "metadata": {
      "needs_background": "light"
     },
     "output_type": "display_data"
    }
   ],
   "source": [
    "vetor = []\n",
    "\n",
    "for i in range(100):\n",
    "    numero_aleatorio = random.randint(0,50)\n",
    "    vetor.append(numero_aleatorio)\n",
    "\n",
    "plt.boxplot(vetor)\n",
    "plt.title(\"Meu boxplot\")\n",
    "plt.show()\n",
    "\n"
   ]
  },
  {
   "cell_type": "markdown",
   "metadata": {},
   "source": [
    "Onde o quadrado do meio representa 50% dos dados, a linha no meio a mediana, a linha de baixo o valor mínimo, a linha acima o valor máximo, o espaço abaixo e acima do círculo representa os outros 50% dados dividios em 25% para cada parte.\n",
    "\n",
    "Se aparecer um círculo fora disso, representa outliers, valores muito diferentes dos dados!"
   ]
  }
 ],
 "metadata": {
  "kernelspec": {
   "display_name": "Python 3",
   "language": "python",
   "name": "python3"
  },
  "language_info": {
   "codemirror_mode": {
    "name": "ipython",
    "version": 3
   },
   "file_extension": ".py",
   "mimetype": "text/x-python",
   "name": "python",
   "nbconvert_exporter": "python",
   "pygments_lexer": "ipython3",
   "version": "3.6.10"
  }
 },
 "nbformat": 4,
 "nbformat_minor": 4
}
