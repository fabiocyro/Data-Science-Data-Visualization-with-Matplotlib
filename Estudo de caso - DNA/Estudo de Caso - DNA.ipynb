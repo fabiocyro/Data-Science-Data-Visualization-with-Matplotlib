{
 "cells": [
  {
   "cell_type": "markdown",
   "metadata": {},
   "source": [
    "## Bactéria"
   ]
  },
  {
   "cell_type": "code",
   "execution_count": 29,
   "metadata": {},
   "outputs": [],
   "source": [
    "entrada = open(\"bacteria.fasta\").read()\n",
    "saida = open(\"bacteria.html\", \"w\")"
   ]
  },
  {
   "cell_type": "code",
   "execution_count": 30,
   "metadata": {},
   "outputs": [
    {
     "name": "stdout",
     "output_type": "stream",
     "text": [
      "{'AA': 0, 'AT': 0, 'AC': 0, 'AG': 0, 'TA': 0, 'TT': 0, 'TC': 0, 'TG': 0, 'CA': 0, 'CT': 0, 'CC': 0, 'CG': 0, 'GA': 0, 'GT': 0, 'GC': 0, 'GG': 0}\n"
     ]
    }
   ],
   "source": [
    "cont = {}\n",
    "\n",
    "# A ideia é achar pares em A C T G\n",
    "\n",
    "for i in [\"A\", \"T\", \"C\", \"G\"]:\n",
    "    for j in [\"A\", \"T\", \"C\", \"G\"]:\n",
    "        cont[i+j] = 0\n",
    "        \n",
    "print(cont)"
   ]
  },
  {
   "cell_type": "code",
   "execution_count": 31,
   "metadata": {},
   "outputs": [
    {
     "name": "stdout",
     "output_type": "stream",
     "text": [
      "{'AA': 105, 'AT': 64, 'AC': 86, 'AG': 111, 'TA': 64, 'TT': 57, 'TC': 60, 'TG': 108, 'CA': 83, 'CT': 75, 'CC': 74, 'CG': 97, 'GA': 113, 'GT': 93, 'GC': 109, 'GG': 147}\n"
     ]
    }
   ],
   "source": [
    "entrada = entrada.replace(\"\\n\", \"\")  #necessário fazer isso pois ao fim de cada linha o \"Enter\" (ou o \\n) dá erro\n",
    "\n",
    "for k in range(len(entrada)-1):\n",
    "    cont[entrada[k] + entrada[k+1]] += 1\n",
    "    \n",
    "print(cont)"
   ]
  },
  {
   "cell_type": "code",
   "execution_count": 32,
   "metadata": {},
   "outputs": [],
   "source": [
    "#HTML\n",
    "\n",
    "i = 1\n",
    "\n",
    "for k in cont:\n",
    "    transparencia = cont[k]/max(cont.values())\n",
    "    saida.write(\"<div style='width:100px; border:1px solid #111; color:#fff; height:100px; float:left; background-color:rgba(0,0,0, \"+str(transparencia)+\"')>\"+k+\"</div>\")\n",
    "    if i%4 == 0:\n",
    "        saida.write(\"<div style='clear:both'></div>\")\n",
    "    i+=1\n",
    "saida.close()"
   ]
  },
  {
   "cell_type": "markdown",
   "metadata": {},
   "source": [
    "## Humano"
   ]
  },
  {
   "cell_type": "code",
   "execution_count": 37,
   "metadata": {},
   "outputs": [],
   "source": [
    "entrada = open(\"human.fasta\").read()\n",
    "saida = open(\"human.html\", \"w\")"
   ]
  },
  {
   "cell_type": "code",
   "execution_count": 38,
   "metadata": {},
   "outputs": [
    {
     "name": "stdout",
     "output_type": "stream",
     "text": [
      "{'AA': 0, 'AT': 0, 'AC': 0, 'AG': 0, 'TA': 0, 'TT': 0, 'TC': 0, 'TG': 0, 'CA': 0, 'CT': 0, 'CC': 0, 'CG': 0, 'GA': 0, 'GT': 0, 'GC': 0, 'GG': 0}\n"
     ]
    }
   ],
   "source": [
    "cont = {}\n",
    "\n",
    "# A ideia é achar pares em A C T G\n",
    "\n",
    "for i in [\"A\", \"T\", \"C\", \"G\"]:\n",
    "    for j in [\"A\", \"T\", \"C\", \"G\"]:\n",
    "        cont[i+j] = 0\n",
    "        \n",
    "print(cont)"
   ]
  },
  {
   "cell_type": "code",
   "execution_count": 39,
   "metadata": {},
   "outputs": [
    {
     "name": "stdout",
     "output_type": "stream",
     "text": [
      "{'AA': 116, 'AT': 95, 'AC': 97, 'AG': 113, 'TA': 85, 'TT': 113, 'TC': 109, 'TG': 111, 'CA': 87, 'CT': 105, 'CC': 184, 'CG': 170, 'GA': 134, 'GT': 105, 'GC': 155, 'GG': 184}\n"
     ]
    }
   ],
   "source": [
    "entrada = entrada.replace(\"\\n\", \"\")  #necessário fazer isso pois ao fim de cada linha o \"Enter\" (ou o \\n) dá erro\n",
    "\n",
    "for k in range(len(entrada)-1):\n",
    "    cont[entrada[k] + entrada[k+1]] += 1\n",
    "    \n",
    "print(cont)"
   ]
  },
  {
   "cell_type": "code",
   "execution_count": 40,
   "metadata": {},
   "outputs": [],
   "source": [
    "#HTML\n",
    "\n",
    "i = 1\n",
    "\n",
    "for k in cont:\n",
    "    transparencia = cont[k]/max(cont.values())\n",
    "    saida.write(\"<div style='width:100px; border:1px solid #111; color:#fff; height:100px; float:left; background-color:rgba(0,0,0, \"+str(transparencia)+\"')>\"+k+\"</div>\")\n",
    "    if i%4 == 0:\n",
    "        saida.write(\"<div style='clear:both'></div>\")\n",
    "    i+=1\n",
    "saida.close()"
   ]
  }
 ],
 "metadata": {
  "kernelspec": {
   "display_name": "Python 3",
   "language": "python",
   "name": "python3"
  },
  "language_info": {
   "codemirror_mode": {
    "name": "ipython",
    "version": 3
   },
   "file_extension": ".py",
   "mimetype": "text/x-python",
   "name": "python",
   "nbconvert_exporter": "python",
   "pygments_lexer": "ipython3",
   "version": "3.6.10"
  }
 },
 "nbformat": 4,
 "nbformat_minor": 4
}
